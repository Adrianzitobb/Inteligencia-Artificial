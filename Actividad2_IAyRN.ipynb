{
  "nbformat": 4,
  "nbformat_minor": 0,
  "metadata": {
    "colab": {
      "provenance": [],
      "authorship_tag": "ABX9TyMRpFyrSSUr82T2Jx5JB6pc",
      "include_colab_link": true
    },
    "kernelspec": {
      "name": "python3",
      "display_name": "Python 3"
    },
    "language_info": {
      "name": "python"
    }
  },
  "cells": [
    {
      "cell_type": "markdown",
      "metadata": {
        "id": "view-in-github",
        "colab_type": "text"
      },
      "source": [
        "<a href=\"https://colab.research.google.com/github/Adrianzitobb/Inteligencia-Artificial/blob/main/Actividad2_IAyRN.ipynb\" target=\"_parent\"><img src=\"https://colab.research.google.com/assets/colab-badge.svg\" alt=\"Open In Colab\"/></a>"
      ]
    },
    {
      "cell_type": "code",
      "execution_count": 9,
      "metadata": {
        "id": "Ek6t_kyX2G5-"
      },
      "outputs": [],
      "source": [
        "\"\"\"\n",
        "Nombre:Adrián Gilberto Castillo Esparza\n",
        "Matricula: 1996229\n",
        "Hora:N5\n",
        "Actividad 2: Diseño de algoritmos en Python\n",
        "\"\"\""
      ]
    },
    {
      "cell_type": "code",
      "source": [
        "\"\"\" Desarrolla un algoritmo que le pida al usuario por su nombre y y que lo\n",
        "    salude con su nombre, excepto si se llama “Ana”, “Juan”, y “Pedro”.\n",
        "\"\"\"\n",
        "def saludo():\n",
        "    # Pedir al manipulador que ingrese su nombre\n",
        "    nombre = input(\"¿Cómo te llamas?: \")\n",
        "\n",
        "    # Verificar si el nombre peretenece a los nombres rechazados por el programa\n",
        "    if nombre.lower() in [\"ana\", \"juan\", \"pedro\"]:\n",
        "        print(\"Tu no participas!\")\n",
        "    # Saludar utilizando el nombre proporcionado por el manipulador\n",
        "    else:\n",
        "        print(\"Hola,\", nombre + \"!\")\n",
        "\n",
        "# Llamar a la función para saludar al manipulador\n",
        "saludo()\n"
      ],
      "metadata": {
        "colab": {
          "base_uri": "https://localhost:8080/"
        },
        "id": "l2mlxiT92H2E",
        "outputId": "9a5e4dd4-eb78-41e7-9b88-b45be170c35f"
      },
      "execution_count": 25,
      "outputs": [
        {
          "output_type": "stream",
          "name": "stdout",
          "text": [
            "¿Cómo te llamas?: Adrián\n",
            "Hola, Adrián!\n"
          ]
        }
      ]
    },
    {
      "cell_type": "code",
      "source": [
        "\"\"\" Desarrolla un algoritmo que por medio de una función, le pida al usuario\n",
        "    una lista de N elementos y como resultado invierta el sentido de la lista.\n",
        "\"\"\"\n",
        "\n",
        "def invertir_lista():\n",
        "    # Pedir al manipulador que ingrese el número de elementos de la lista\n",
        "    n = int(input(\"Ingrese el número de elementos de la lista: \"))\n",
        "\n",
        "    # Pedir al manipualdor que ingrese los elementos de la lista\n",
        "    lista = []\n",
        "    for i in range(n):\n",
        "        elemento = input(f\"Ingrese el elemento {i+1}: \")\n",
        "        lista.append(elemento)\n",
        "\n",
        "    # Invertir el orden de la lista\n",
        "    lista_invertida = lista[::-1]\n",
        "\n",
        "    # Imprimir la lista invertida\n",
        "    print(\"Lista invertida:\", lista_invertida)\n",
        "\n",
        "# Llamar a la función para invertir la lista\n",
        "invertir_lista()"
      ],
      "metadata": {
        "colab": {
          "base_uri": "https://localhost:8080/"
        },
        "id": "dj3aKRDL2IAH",
        "outputId": "7bfd9dbf-f14c-484a-ab56-42a00be6c5c9"
      },
      "execution_count": 19,
      "outputs": [
        {
          "output_type": "stream",
          "name": "stdout",
          "text": [
            "Ingrese el número de elementos de la lista: 6\n",
            "Ingrese el elemento 1: 10\n",
            "Ingrese el elemento 2: 15\n",
            "Ingrese el elemento 3: 23\n",
            "Ingrese el elemento 4: 56\n",
            "Ingrese el elemento 5: 84\n",
            "Ingrese el elemento 6: 88\n",
            "Lista invertida: ['88', '84', '56', '23', '15', '10']\n"
          ]
        }
      ]
    },
    {
      "cell_type": "code",
      "source": [
        "\"\"\" Desarrolla un algoritmo que le pregunte al usuario cuántos números\n",
        "    de la serie de Fibonacci quiere generar y que al final los imprima.\n",
        "\"\"\"\n",
        "\n",
        "x=0\n",
        "y=1\n",
        "z=0\n",
        "while True:\n",
        "    n=int(input(\"Hola!, ingresa la cantidad de datos que deseas generar de la serie de Fibonacci :\"))\n",
        "    if n>1:\n",
        "        break\n",
        "print(end=\" \")\n",
        "for i in range(0,n):\n",
        "    z=x+y\n",
        "    print(f\"{z}\",end=\" \")\n",
        "    x=y\n",
        "    y=z\n",
        "print(\"\")\n",
        "\n"
      ],
      "metadata": {
        "colab": {
          "base_uri": "https://localhost:8080/"
        },
        "id": "hasskGg02IHy",
        "outputId": "94e13fe3-ed95-449e-ebd5-901d3e2dcb21"
      },
      "execution_count": 18,
      "outputs": [
        {
          "output_type": "stream",
          "name": "stdout",
          "text": [
            "Hola!, ingresa la cantidad de datos que deseas generar de la serie de Fibonacci :10\n",
            " 1 2 3 5 8 13 21 34 55 89 \n"
          ]
        }
      ]
    },
    {
      "cell_type": "code",
      "source": [
        "\"\"\"Juego de adivinar el número: Crea un programa que genere un número aleatorio\n",
        "  entre 1 y 100, y luego le pida al usuario que adivine el número. El programa\n",
        "  debe proporcionar pistas al usuario si el número es mayor o menor que el\n",
        "  número objetivo, y seguir solicitando un nuevo intento hasta que el usuario\n",
        "  adivine correctamente.\n",
        "\"\"\"\n",
        "\n",
        "#Uso de biblioteca \"random\" para generar un número secreto aleatorio\n",
        "import random\n",
        "\n",
        "# Instrucciones del juego\n",
        "print(\"Bienvenido a 'Adivinar el número'!\")\n",
        "print(\"El objetivo del juego es adivinar un número secreto.\")\n",
        "print(\"Después de cada intento, recibirás una retroalimentación para ayudarte.\")\n",
        "print(\"¡Vamos a empezar!\")\n",
        "\n",
        "# Generar un número secreto aleatorio entre 1 y 100\n",
        "numero_secreto = random.randint(1, 100)\n",
        "\n",
        "# Solicitar la entrada del jugador\n",
        "intentos = 0\n",
        "adivinado = False\n",
        "\n",
        "# Ciclo del juego\n",
        "while not adivinado:\n",
        "    numero_propuesto = input(\"Ingresa tu suposición (entre 1 y 100): \")\n",
        "\n",
        "    # Validación del número propuesto, asegura que el manipualdor solo incerte datos numericos\n",
        "    if not numero_propuesto.isdigit():\n",
        "        print(\"Por favor, ingresa un dato numerico.\")\n",
        "        continue\n",
        "\n",
        "    numero_propuesto = int(numero_propuesto)\n",
        "\n",
        "    # Rango establecido, asegura que el manipualdor solo incerte numeros en un rango del 1 al 100\n",
        "    if numero_propuesto < 1 or numero_propuesto > 100:\n",
        "        print(\"El número debe estar en el rango de 1 a 100.\")\n",
        "        continue\n",
        "    intentos += 1\n",
        "\n",
        "    # Compara el numero propuesto con el numero elegido por el programa para retroalimentar al manipulador\n",
        "    if numero_propuesto < numero_secreto:\n",
        "        print(\"Demasiado bajo. ¡Intenta nuevamente!\")\n",
        "    elif numero_propuesto > numero_secreto:\n",
        "        print(\"Demasiado alto. ¡Intenta nuevamente!\")\n",
        "\n",
        "\n",
        "    else:\n",
        "        print(f\"¡Felicidades! ¡Adivinaste el número en {intentos} intentos!\")\n",
        "        adivinado = True\n",
        "\n",
        "    # Contador de intentos\n",
        "    print(f\"Intentos realizados: {intentos}\")\n",
        "\n",
        "# Fin del juego\n",
        "\n",
        "print(f\"¡Felicidades! ¡Adivinaste el número en {intentos} intentos!\")\n",
        "adivinado = True\n",
        "\n",
        "jugar_nuevamente = input(\"¿Deseas jugar nuevamente? (sí/no): \")\n",
        "\n",
        "if jugar_nuevamente.lower() == 'sí':\n",
        "    numero_secreto = random.randint(1, 100)\n",
        "    intentos = 0\n",
        "    adivinado = False\n",
        "    print(\"¡Genial! ¡Vamos a jugar nuevamente!\")\n",
        "else:\n",
        "    print(\"Gracias por jugar. ¡Hasta la próxima!\")"
      ],
      "metadata": {
        "colab": {
          "base_uri": "https://localhost:8080/"
        },
        "id": "4pDQjgKl2IJ7",
        "outputId": "f66e6e99-2221-4669-a226-efb76edc3e8d"
      },
      "execution_count": 1,
      "outputs": [
        {
          "output_type": "stream",
          "name": "stdout",
          "text": [
            "Bienvenido a 'Adivinar el número'!\n",
            "El objetivo del juego es adivinar un número secreto.\n",
            "Después de cada intento, recibirás una retroalimentación para ayudarte.\n",
            "¡Vamos a empezar!\n",
            "Ingresa tu suposición (entre 1 y 100): 50\n",
            "Demasiado bajo. ¡Intenta nuevamente!\n",
            "Intentos realizados: 1\n",
            "Ingresa tu suposición (entre 1 y 100): 80\n",
            "Demasiado alto. ¡Intenta nuevamente!\n",
            "Intentos realizados: 2\n",
            "Ingresa tu suposición (entre 1 y 100): 70\n",
            "Demasiado bajo. ¡Intenta nuevamente!\n",
            "Intentos realizados: 3\n",
            "Ingresa tu suposición (entre 1 y 100): 75\n",
            "Demasiado bajo. ¡Intenta nuevamente!\n",
            "Intentos realizados: 4\n",
            "Ingresa tu suposición (entre 1 y 100): 78\n",
            "Demasiado bajo. ¡Intenta nuevamente!\n",
            "Intentos realizados: 5\n",
            "Ingresa tu suposición (entre 1 y 100): 79\n",
            "¡Felicidades! ¡Adivinaste el número en 6 intentos!\n",
            "Intentos realizados: 6\n",
            "¡Felicidades! ¡Adivinaste el número en 6 intentos!\n",
            "¿Deseas jugar nuevamente? (sí/no): no\n",
            "Gracias por jugar. ¡Hasta la próxima!\n"
          ]
        }
      ]
    },
    {
      "cell_type": "code",
      "source": [
        "\"\"\" Ejercicio de cálculo de números primos en un rango dado: Escribe un\n",
        "    programa que solicite al usuario un rango de números y muestre todos los\n",
        "    números primos dentro de ese rango.\n",
        "\"\"\"\n",
        "\n",
        "def es_primo(numero):\n",
        "    if numero <= 1:\n",
        "        return False\n",
        "    elif numero <= 3:\n",
        "        return True\n",
        "    elif numero % 2 == 0 or numero % 3 == 0:\n",
        "        return False\n",
        "    i = 5\n",
        "    while i * i <= numero:\n",
        "        if numero % i == 0 or numero % (i + 2) == 0:\n",
        "            return False\n",
        "        i += 6\n",
        "    return True\n",
        "\n",
        "def numeros_primos_en_rango(inicio, fin):\n",
        "    primos = []\n",
        "    for numero in range(inicio, fin + 1):\n",
        "        if es_primo(numero):\n",
        "            primos.append(numero)\n",
        "    return primos\n",
        "\n",
        "def main():\n",
        "    # Solicitar al usuario el rango de números\n",
        "    inicio = int(input(\"Introduce el número inicial del rango: \"))\n",
        "    fin = int(input(\"Introduce el número final del rango: \"))\n",
        "\n",
        "    # Encontrar los números primos en el rango dado\n",
        "    primos_en_rango = numeros_primos_en_rango(inicio, fin)\n",
        "\n",
        "    # Mostrar los números primos en el rango dado\n",
        "    print(f\"Números primos en el rango de {inicio} a {fin}:\")\n",
        "    if primos_en_rango:\n",
        "        print(primos_en_rango)\n",
        "    else:\n",
        "        print(\"No se encontraron números primos en este rango.\")\n",
        "\n",
        "# Llamar a la función principal\n",
        "main()\n",
        "\n"
      ],
      "metadata": {
        "colab": {
          "base_uri": "https://localhost:8080/"
        },
        "id": "-MnAEb_Q2INh",
        "outputId": "e8df314c-6871-4cc2-9e14-5d215ea19bab"
      },
      "execution_count": 26,
      "outputs": [
        {
          "output_type": "stream",
          "name": "stdout",
          "text": [
            "Introduce el número inicial del rango: 20\n",
            "Introduce el número final del rango: 45\n",
            "Números primos en el rango de 20 a 45:\n",
            "[23, 29, 31, 37, 41, 43]\n"
          ]
        }
      ]
    },
    {
      "cell_type": "code",
      "source": [
        "\"\"\" Ejercicio de implementación de una calculadora básica utilizando funciones:\n",
        "    Escribe un programa que solicite al usuario dos números y realice operaciones\n",
        "    básicas como suma, resta, multiplicación y división utilizando funciones\n",
        "    separadas para cada operación.\n",
        "\"\"\"\n",
        "\n",
        "def suma(a, b):\n",
        "    return a + b\n",
        "\n",
        "def resta(a, b):\n",
        "    return a - b\n",
        "\n",
        "def multiplicacion(a, b):\n",
        "    return a * b\n",
        "\n",
        "def division(a, b):\n",
        "    if b != 0:\n",
        "        return a / b\n",
        "    else:\n",
        "        return \"Error: división por cero\"\n",
        "\n",
        "def calculadora():\n",
        "    while True:\n",
        "        print(\"1. Suma\")\n",
        "        print(\"2. Resta\")\n",
        "        print(\"3. Multiplicación\")\n",
        "        print(\"4. División\")\n",
        "        print(\"5. Salir\")\n",
        "\n",
        "        opcion = input(\"Escoja una opción (1/2/3/4/5): \")\n",
        "\n",
        "        if opcion == '5':\n",
        "            print(\"¡Hasta luego!\")\n",
        "            break\n",
        "\n",
        "        num1 = float(input(\"Ingrese el primer número: \"))\n",
        "        num2 = float(input(\"Ingrese el segundo número: \"))\n",
        "\n",
        "        if opcion == '1':\n",
        "            print(\"Resultado:\", suma(num1, num2))\n",
        "        elif opcion == '2':\n",
        "            print(\"Resultado:\", resta(num1, num2))\n",
        "        elif opcion == '3':\n",
        "            print(\"Resultado:\", multiplicacion(num1, num2))\n",
        "        elif opcion == '4':\n",
        "            print(\"Resultado:\", division(num1, num2))\n",
        "        else:\n",
        "            print(\"Opción inválida. Por favor, elija una opción válida.\")\n",
        "\n",
        "calculadora()"
      ],
      "metadata": {
        "colab": {
          "base_uri": "https://localhost:8080/"
        },
        "id": "ootUl6K287S2",
        "outputId": "d6b4c812-bc03-4656-c98b-1d3a0432c3a1"
      },
      "execution_count": 28,
      "outputs": [
        {
          "output_type": "stream",
          "name": "stdout",
          "text": [
            "1. Suma\n",
            "2. Resta\n",
            "3. Multiplicación\n",
            "4. División\n",
            "5. Salir\n",
            "Escoja una opción (1/2/3/4/5): 3\n",
            "Ingrese el primer número: 20\n",
            "Ingrese el segundo número: 50\n",
            "Resultado: 1000.0\n",
            "1. Suma\n",
            "2. Resta\n",
            "3. Multiplicación\n",
            "4. División\n",
            "5. Salir\n",
            "Escoja una opción (1/2/3/4/5): 5\n",
            "¡Hasta luego!\n"
          ]
        }
      ]
    }
  ]
}