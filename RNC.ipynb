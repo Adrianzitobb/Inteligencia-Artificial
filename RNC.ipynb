{
  "nbformat": 4,
  "nbformat_minor": 0,
  "metadata": {
    "colab": {
      "provenance": [],
      "authorship_tag": "ABX9TyO0aa8xnUCEXiGQsovxNpa3",
      "include_colab_link": true
    },
    "kernelspec": {
      "name": "python3",
      "display_name": "Python 3"
    },
    "language_info": {
      "name": "python"
    }
  },
  "cells": [
    {
      "cell_type": "markdown",
      "metadata": {
        "id": "view-in-github",
        "colab_type": "text"
      },
      "source": [
        "<a href=\"https://colab.research.google.com/github/Adrianzitobb/Inteligencia-Artificial/blob/main/RNC.ipynb\" target=\"_parent\"><img src=\"https://colab.research.google.com/assets/colab-badge.svg\" alt=\"Open In Colab\"/></a>"
      ]
    },
    {
      "cell_type": "code",
      "execution_count": 1,
      "metadata": {
        "id": "XFv4gvDXIOdR",
        "colab": {
          "base_uri": "https://localhost:8080/",
          "height": 36
        },
        "outputId": "e0a6b177-345d-4e0a-aa58-950f4c88e50e"
      },
      "outputs": [
        {
          "output_type": "execute_result",
          "data": {
            "text/plain": [
              "'\\nActividad fundamental #6: Redes Neuronales\\nNombre:Adrián Gilberto Castillo Esparza\\nMatricula: 1996229\\nHora:N4\\n'"
            ],
            "application/vnd.google.colaboratory.intrinsic+json": {
              "type": "string"
            }
          },
          "metadata": {},
          "execution_count": 1
        }
      ],
      "source": [
        "\"\"\"\n",
        "Actividad fundamental #6: Redes Neuronales\n",
        "Nombre:Adrián Gilberto Castillo Esparza\n",
        "Matricula: 1996229\n",
        "Hora:N4\n",
        "\"\"\""
      ]
    },
    {
      "cell_type": "code",
      "source": [
        "# Paso 1: Cargar librerías\n",
        "\n",
        "import tensorflow as tf\n",
        "from tensorflow.keras.datasets import mnist\n",
        "from tensorflow.keras.models import Sequential\n",
        "from tensorflow.keras.layers import Conv2D, MaxPooling2D, Flatten, Dense\n",
        "from tensorflow.keras.utils import to_categorical\n",
        "import numpy as np"
      ],
      "metadata": {
        "id": "tUQzACNvIgUh"
      },
      "execution_count": 2,
      "outputs": []
    },
    {
      "cell_type": "code",
      "source": [
        "#Paso 2: Cargar datos\n",
        "(train_data, train_labels), (test_data, test_labels) = mnist.load_data()"
      ],
      "metadata": {
        "id": "J99Ws8eMIsDt",
        "colab": {
          "base_uri": "https://localhost:8080/"
        },
        "outputId": "2eee44e9-5e8c-4538-ec20-7a067fa05abc"
      },
      "execution_count": 3,
      "outputs": [
        {
          "output_type": "stream",
          "name": "stdout",
          "text": [
            "Downloading data from https://storage.googleapis.com/tensorflow/tf-keras-datasets/mnist.npz\n",
            "11490434/11490434 [==============================] - 0s 0us/step\n"
          ]
        }
      ]
    },
    {
      "cell_type": "code",
      "source": [
        "#Paso 3: Procesamiento de datos\n",
        "train_data = train_data.reshape((60000, 28, 28, 1)).astype('float32') / 255\n",
        "test_data = test_data.reshape((10000, 28, 28, 1)).astype('float32') / 255\n",
        "train_labels = to_categorical(train_labels)\n",
        "test_labels = to_categorical(test_labels)"
      ],
      "metadata": {
        "id": "83oSWDiNIkxG"
      },
      "execution_count": 4,
      "outputs": []
    },
    {
      "cell_type": "code",
      "source": [
        "#Paso 4: Selección y entrenamiento del modelo\n",
        "\n",
        "#Configuracion de las capas\n",
        "model = Sequential([\n",
        "    Conv2D(32, (3, 3), activation='relu', input_shape=(28, 28, 1)),\n",
        "    MaxPooling2D((2, 2)),\n",
        "    Conv2D(64, (3, 3), activation='relu'),\n",
        "    MaxPooling2D((2, 2)),\n",
        "\n",
        "#Capas densas de la parte superior\n",
        "    Flatten(),\n",
        "    Dense(64, activation='relu'),\n",
        "    Dense(10, activation='softmax')\n",
        "])\n",
        "\n",
        "\n",
        "\n",
        "#Copilación del modelo\n",
        "model.compile(optimizer='adam',\n",
        "              loss='categorical_crossentropy',\n",
        "              metrics=['accuracy'])\n",
        "\n",
        "\n",
        "#Entrenamiento del modelo\n",
        "epochs = 10  # Número de épocas\n",
        "model.fit(train_data, train_labels, epochs=epochs, batch_size=64, validation_split=0.1)\n"
      ],
      "metadata": {
        "colab": {
          "base_uri": "https://localhost:8080/"
        },
        "id": "rWOO2sdRJi3W",
        "outputId": "fa450b94-70c1-4249-b64e-340a28274761"
      },
      "execution_count": 5,
      "outputs": [
        {
          "output_type": "stream",
          "name": "stdout",
          "text": [
            "Epoch 1/10\n",
            "844/844 [==============================] - 49s 57ms/step - loss: 0.1930 - accuracy: 0.9421 - val_loss: 0.0636 - val_accuracy: 0.9797\n",
            "Epoch 2/10\n",
            "844/844 [==============================] - 48s 57ms/step - loss: 0.0577 - accuracy: 0.9826 - val_loss: 0.0583 - val_accuracy: 0.9833\n",
            "Epoch 3/10\n",
            "844/844 [==============================] - 44s 53ms/step - loss: 0.0417 - accuracy: 0.9870 - val_loss: 0.0421 - val_accuracy: 0.9882\n",
            "Epoch 4/10\n",
            "844/844 [==============================] - 46s 54ms/step - loss: 0.0312 - accuracy: 0.9903 - val_loss: 0.0425 - val_accuracy: 0.9888\n",
            "Epoch 5/10\n",
            "844/844 [==============================] - 45s 53ms/step - loss: 0.0232 - accuracy: 0.9924 - val_loss: 0.0474 - val_accuracy: 0.9882\n",
            "Epoch 6/10\n",
            "844/844 [==============================] - 46s 55ms/step - loss: 0.0186 - accuracy: 0.9941 - val_loss: 0.0446 - val_accuracy: 0.9882\n",
            "Epoch 7/10\n",
            "844/844 [==============================] - 46s 54ms/step - loss: 0.0143 - accuracy: 0.9952 - val_loss: 0.0365 - val_accuracy: 0.9917\n",
            "Epoch 8/10\n",
            "844/844 [==============================] - 44s 52ms/step - loss: 0.0119 - accuracy: 0.9961 - val_loss: 0.0511 - val_accuracy: 0.9890\n",
            "Epoch 9/10\n",
            "844/844 [==============================] - 44s 52ms/step - loss: 0.0101 - accuracy: 0.9967 - val_loss: 0.0451 - val_accuracy: 0.9897\n",
            "Epoch 10/10\n",
            "844/844 [==============================] - 50s 59ms/step - loss: 0.0085 - accuracy: 0.9970 - val_loss: 0.0474 - val_accuracy: 0.9910\n"
          ]
        },
        {
          "output_type": "execute_result",
          "data": {
            "text/plain": [
              "<keras.src.callbacks.History at 0x7f269ff27a30>"
            ]
          },
          "metadata": {},
          "execution_count": 5
        }
      ]
    },
    {
      "cell_type": "code",
      "source": [
        "#Paso 5: Prueba del modelo\n",
        "\n",
        "# Evaluar el modelo con el conjunto de datos de prueba\n",
        "test_loss, test_accuracy = model.evaluate(test_data, test_labels)\n",
        "print(f'Test accuracy: {test_accuracy}')\n",
        "\n",
        "\n",
        "# Realizar 5 predicciones con el conjunto de datos de prueba\n",
        "predictions = model.predict(test_data[:5])\n",
        "for i in range(5):\n",
        "    print(f'Predicción: {np.argmax(predictions[i])}, Valor real: {np.argmax(test_labels[i])}')"
      ],
      "metadata": {
        "id": "gBuPmQO0PQfG",
        "colab": {
          "base_uri": "https://localhost:8080/"
        },
        "outputId": "9afc34e5-c067-4143-ae23-693b0b3eb7c6"
      },
      "execution_count": 6,
      "outputs": [
        {
          "output_type": "stream",
          "name": "stdout",
          "text": [
            "313/313 [==============================] - 3s 8ms/step - loss: 0.0312 - accuracy: 0.9909\n",
            "Test accuracy: 0.9908999800682068\n",
            "1/1 [==============================] - 0s 110ms/step\n",
            "Predicción: 7, Valor real: 7\n",
            "Predicción: 2, Valor real: 2\n",
            "Predicción: 1, Valor real: 1\n",
            "Predicción: 0, Valor real: 0\n",
            "Predicción: 4, Valor real: 4\n"
          ]
        }
      ]
    },
    {
      "cell_type": "code",
      "source": [
        "\"\"\"\n",
        "\n",
        "¿Cuántas épocas usaste para mejorar el rendimiento del modelo en comparación\n",
        "con la red neuronal prealimentada de la actividad 5?\n",
        "Se usaron 10 épocas, puede ajustarse para mejorar el rendimiento del modelo.\n",
        "Puedes experimentar con diferentes cantidades de épocas para ver como afecta\n",
        "el rendimiento del modelo\n",
        "\n",
        "¿Obtuviste un mejor rendimiento con este modelo o con el de la actividad 5?\n",
        "¿Por qué?\n",
        "Obtuve mejor rendimiento con la actividad 6 porque va más rapido y tiene más\n",
        "capas que la pasada\n",
        "\"\"\""
      ],
      "metadata": {
        "colab": {
          "base_uri": "https://localhost:8080/",
          "height": 70
        },
        "id": "LrFc-vDUQ384",
        "outputId": "b7446263-877c-4a44-a05e-487f7c5a821c"
      },
      "execution_count": 7,
      "outputs": [
        {
          "output_type": "execute_result",
          "data": {
            "text/plain": [
              "'\\n\\n¿Cuántas épocas usaste para mejorar el rendimiento del modelo en comparación\\ncon la red neuronal prealimentada de la actividad 5?\\nSe usaron 10 épocas, puede ajustarse para mejorar el rendimiento del modelo.\\nPuedes experimentar con diferentes cantidades de épocas para ver como afecta \\nel rendimiento del modelo \\n\\n¿Obtuviste un mejor rendimiento con este modelo o con el de la actividad 5?\\n¿Por qué? \\nObtuve mejor rendimiento con la actividad 6 porque va más rapido y tiene más \\ncapas que la pasada\\n'"
            ],
            "application/vnd.google.colaboratory.intrinsic+json": {
              "type": "string"
            }
          },
          "metadata": {},
          "execution_count": 7
        }
      ]
    }
  ]
}